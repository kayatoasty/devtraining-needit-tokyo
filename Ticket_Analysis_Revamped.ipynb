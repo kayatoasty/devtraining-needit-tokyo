{
  "nbformat": 4,
  "nbformat_minor": 0,
  "metadata": {
    "colab": {
      "provenance": [],
      "include_colab_link": true
    },
    "kernelspec": {
      "name": "python3",
      "display_name": "Python 3"
    },
    "language_info": {
      "name": "python"
    }
  },
  "cells": [
    {
      "cell_type": "markdown",
      "metadata": {
        "id": "view-in-github",
        "colab_type": "text"
      },
      "source": [
        "<a href=\"https://colab.research.google.com/github/kayatoasty/devtraining-needit-tokyo/blob/main/Ticket_Analysis_Revamped.ipynb\" target=\"_parent\"><img src=\"https://colab.research.google.com/assets/colab-badge.svg\" alt=\"Open In Colab\"/></a>"
      ]
    },
    {
      "cell_type": "code",
      "execution_count": null,
      "metadata": {
        "id": "jb407PA1-056",
        "colab": {
          "base_uri": "https://localhost:8080/"
        },
        "outputId": "def447c3-dd90-4657-d2f1-8631e20bc67f"
      },
      "outputs": [
        {
          "output_type": "stream",
          "name": "stdout",
          "text": [
            "Mounted at /content/drive\n"
          ]
        }
      ],
      "source": [
        "from google.colab import drive\n",
        "drive.mount('/content/drive')"
      ]
    },
    {
      "cell_type": "code",
      "source": [
        "import matplotlib.pyplot as plt\n",
        "import pandas as pd\n",
        "import seaborn as sns\n",
        "!pip install df2img\n",
        "import df2img\n",
        "import numpy as np\n",
        "# import matplotlib.ticker as ticker"
      ],
      "metadata": {
        "colab": {
          "base_uri": "https://localhost:8080/",
          "height": 1000
        },
        "id": "t9fhpz_R_OIJ",
        "outputId": "5870f24f-9613-4d45-9465-f5312114c475"
      },
      "execution_count": null,
      "outputs": [
        {
          "output_type": "stream",
          "name": "stdout",
          "text": [
            "Collecting df2img\n",
            "  Downloading df2img-0.2.18-py3-none-any.whl (6.6 kB)\n",
            "Collecting kaleido==0.0.3 (from df2img)\n",
            "  Downloading kaleido-0.0.3-py2.py3-none-manylinux2014_x86_64.whl (73.9 MB)\n",
            "\u001b[2K     \u001b[90m━━━━━━━━━━━━━━━━━━━━━━━━━━━━━━━━━━━━━━━━\u001b[0m \u001b[32m73.9/73.9 MB\u001b[0m \u001b[31m12.0 MB/s\u001b[0m eta \u001b[36m0:00:00\u001b[0m\n",
            "\u001b[?25hRequirement already satisfied: pandas<3.0.0,>=1.0.0 in /usr/local/lib/python3.10/dist-packages (from df2img) (2.0.3)\n",
            "Requirement already satisfied: plotly<6.0.0,>=5.0.0 in /usr/local/lib/python3.10/dist-packages (from df2img) (5.15.0)\n",
            "Collecting ipython>=8.12.2 (from df2img)\n",
            "  Downloading ipython-8.23.0-py3-none-any.whl (814 kB)\n",
            "\u001b[2K     \u001b[90m━━━━━━━━━━━━━━━━━━━━━━━━━━━━━━━━━━━━━━━━\u001b[0m \u001b[32m814.2/814.2 kB\u001b[0m \u001b[31m50.0 MB/s\u001b[0m eta \u001b[36m0:00:00\u001b[0m\n",
            "\u001b[?25hRequirement already satisfied: nbformat>=5.9.2 in /usr/local/lib/python3.10/dist-packages (from df2img) (5.10.3)\n",
            "Requirement already satisfied: decorator in /usr/local/lib/python3.10/dist-packages (from ipython>=8.12.2->df2img) (4.4.2)\n",
            "Collecting jedi>=0.16 (from ipython>=8.12.2->df2img)\n",
            "  Downloading jedi-0.19.1-py2.py3-none-any.whl (1.6 MB)\n",
            "\u001b[2K     \u001b[90m━━━━━━━━━━━━━━━━━━━━━━━━━━━━━━━━━━━━━━━━\u001b[0m \u001b[32m1.6/1.6 MB\u001b[0m \u001b[31m57.8 MB/s\u001b[0m eta \u001b[36m0:00:00\u001b[0m\n",
            "\u001b[?25hRequirement already satisfied: matplotlib-inline in /usr/local/lib/python3.10/dist-packages (from ipython>=8.12.2->df2img) (0.1.6)\n",
            "Requirement already satisfied: prompt-toolkit<3.1.0,>=3.0.41 in /usr/local/lib/python3.10/dist-packages (from ipython>=8.12.2->df2img) (3.0.43)\n",
            "Requirement already satisfied: pygments>=2.4.0 in /usr/local/lib/python3.10/dist-packages (from ipython>=8.12.2->df2img) (2.16.1)\n",
            "Collecting stack-data (from ipython>=8.12.2->df2img)\n",
            "  Downloading stack_data-0.6.3-py3-none-any.whl (24 kB)\n",
            "Collecting traitlets>=5.13.0 (from ipython>=8.12.2->df2img)\n",
            "  Downloading traitlets-5.14.2-py3-none-any.whl (85 kB)\n",
            "\u001b[2K     \u001b[90m━━━━━━━━━━━━━━━━━━━━━━━━━━━━━━━━━━━━━━━━\u001b[0m \u001b[32m85.4/85.4 kB\u001b[0m \u001b[31m10.3 MB/s\u001b[0m eta \u001b[36m0:00:00\u001b[0m\n",
            "\u001b[?25hRequirement already satisfied: exceptiongroup in /usr/local/lib/python3.10/dist-packages (from ipython>=8.12.2->df2img) (1.2.0)\n",
            "Requirement already satisfied: typing-extensions in /usr/local/lib/python3.10/dist-packages (from ipython>=8.12.2->df2img) (4.10.0)\n",
            "Requirement already satisfied: pexpect>4.3 in /usr/local/lib/python3.10/dist-packages (from ipython>=8.12.2->df2img) (4.9.0)\n",
            "Requirement already satisfied: fastjsonschema in /usr/local/lib/python3.10/dist-packages (from nbformat>=5.9.2->df2img) (2.19.1)\n",
            "Requirement already satisfied: jsonschema>=2.6 in /usr/local/lib/python3.10/dist-packages (from nbformat>=5.9.2->df2img) (4.19.2)\n",
            "Requirement already satisfied: jupyter-core in /usr/local/lib/python3.10/dist-packages (from nbformat>=5.9.2->df2img) (5.7.2)\n",
            "Requirement already satisfied: python-dateutil>=2.8.2 in /usr/local/lib/python3.10/dist-packages (from pandas<3.0.0,>=1.0.0->df2img) (2.8.2)\n",
            "Requirement already satisfied: pytz>=2020.1 in /usr/local/lib/python3.10/dist-packages (from pandas<3.0.0,>=1.0.0->df2img) (2023.4)\n",
            "Requirement already satisfied: tzdata>=2022.1 in /usr/local/lib/python3.10/dist-packages (from pandas<3.0.0,>=1.0.0->df2img) (2024.1)\n",
            "Requirement already satisfied: numpy>=1.21.0 in /usr/local/lib/python3.10/dist-packages (from pandas<3.0.0,>=1.0.0->df2img) (1.25.2)\n",
            "Requirement already satisfied: tenacity>=6.2.0 in /usr/local/lib/python3.10/dist-packages (from plotly<6.0.0,>=5.0.0->df2img) (8.2.3)\n",
            "Requirement already satisfied: packaging in /usr/local/lib/python3.10/dist-packages (from plotly<6.0.0,>=5.0.0->df2img) (24.0)\n",
            "Requirement already satisfied: parso<0.9.0,>=0.8.3 in /usr/local/lib/python3.10/dist-packages (from jedi>=0.16->ipython>=8.12.2->df2img) (0.8.3)\n",
            "Requirement already satisfied: attrs>=22.2.0 in /usr/local/lib/python3.10/dist-packages (from jsonschema>=2.6->nbformat>=5.9.2->df2img) (23.2.0)\n",
            "Requirement already satisfied: jsonschema-specifications>=2023.03.6 in /usr/local/lib/python3.10/dist-packages (from jsonschema>=2.6->nbformat>=5.9.2->df2img) (2023.12.1)\n",
            "Requirement already satisfied: referencing>=0.28.4 in /usr/local/lib/python3.10/dist-packages (from jsonschema>=2.6->nbformat>=5.9.2->df2img) (0.34.0)\n",
            "Requirement already satisfied: rpds-py>=0.7.1 in /usr/local/lib/python3.10/dist-packages (from jsonschema>=2.6->nbformat>=5.9.2->df2img) (0.18.0)\n",
            "Requirement already satisfied: ptyprocess>=0.5 in /usr/local/lib/python3.10/dist-packages (from pexpect>4.3->ipython>=8.12.2->df2img) (0.7.0)\n",
            "Requirement already satisfied: wcwidth in /usr/local/lib/python3.10/dist-packages (from prompt-toolkit<3.1.0,>=3.0.41->ipython>=8.12.2->df2img) (0.2.13)\n",
            "Requirement already satisfied: six>=1.5 in /usr/local/lib/python3.10/dist-packages (from python-dateutil>=2.8.2->pandas<3.0.0,>=1.0.0->df2img) (1.16.0)\n",
            "Requirement already satisfied: platformdirs>=2.5 in /usr/local/lib/python3.10/dist-packages (from jupyter-core->nbformat>=5.9.2->df2img) (4.2.0)\n",
            "Collecting executing>=1.2.0 (from stack-data->ipython>=8.12.2->df2img)\n",
            "  Downloading executing-2.0.1-py2.py3-none-any.whl (24 kB)\n",
            "Collecting asttokens>=2.1.0 (from stack-data->ipython>=8.12.2->df2img)\n",
            "  Downloading asttokens-2.4.1-py2.py3-none-any.whl (27 kB)\n",
            "Collecting pure-eval (from stack-data->ipython>=8.12.2->df2img)\n",
            "  Downloading pure_eval-0.2.2-py3-none-any.whl (11 kB)\n",
            "Installing collected packages: pure-eval, kaleido, traitlets, jedi, executing, asttokens, stack-data, ipython, df2img\n",
            "  Attempting uninstall: traitlets\n",
            "    Found existing installation: traitlets 5.7.1\n",
            "    Uninstalling traitlets-5.7.1:\n",
            "      Successfully uninstalled traitlets-5.7.1\n",
            "  Attempting uninstall: ipython\n",
            "    Found existing installation: ipython 7.34.0\n",
            "    Uninstalling ipython-7.34.0:\n",
            "      Successfully uninstalled ipython-7.34.0\n",
            "\u001b[31mERROR: pip's dependency resolver does not currently take into account all the packages that are installed. This behaviour is the source of the following dependency conflicts.\n",
            "google-colab 1.0.0 requires ipython==7.34.0, but you have ipython 8.23.0 which is incompatible.\u001b[0m\u001b[31m\n",
            "\u001b[0mSuccessfully installed asttokens-2.4.1 df2img-0.2.18 executing-2.0.1 ipython-8.23.0 jedi-0.19.1 kaleido-0.0.3 pure-eval-0.2.2 stack-data-0.6.3 traitlets-5.14.2\n"
          ]
        },
        {
          "output_type": "display_data",
          "data": {
            "application/vnd.colab-display-data+json": {
              "pip_warning": {
                "packages": [
                  "IPython"
                ]
              },
              "id": "0010ccd471db49cb87b247cf980d1046"
            }
          },
          "metadata": {}
        }
      ]
    },
    {
      "cell_type": "code",
      "source": [
        "# df = pd.read_csv(\"/content/drive/MyDrive/Work/July_to_August_2022_incidents.csv\", encoding=\"ISO-8859-1\")\n",
        "# /content/drive/MyDrive/April-June 2023.csv\n",
        "# df = pd.read_csv(\"/content/drive/MyDrive/April-June 2023.csv\", encoding=\"ISO-8859-1\")\n",
        "df = pd.read_csv(\"/content/drive/MyDrive/Oct-Dec 2023.csv\", encoding=\"ISO-8859-1\")\n",
        "print(df.shape)\n",
        "df.head(2)\n",
        "\n",
        "def add_apps_column(df):\n",
        "  if (df['u_business_service'] == 'Research Administration & Compliance Systems > Research Administration and Management > Research Administration & Compliance Reporting'):\n",
        "                        return \"RACR\"\n",
        "  elif (df['u_business_service'] == 'Research Administration & Compliance Systems > Research Administration and Management > Grants Management (GMAS)'):\n",
        "                        return \"GMAS\"\n",
        "  elif (df['u_business_service'] == 'Research Administration & Compliance Systems > Research Compliance > IRB (ESTR)'):\n",
        "                        return \"H-Apps\"\n",
        "  elif (df['u_business_service'] == 'Research Administration & Compliance Systems > Research Compliance > Agreements'):\n",
        "                        return \"H-Apps\"\n",
        "  elif (df['u_business_service'] == 'Research Administration & Compliance Systems > Research Compliance > Outside Activity and Interest Reporting (OAIR)'):\n",
        "                        return \"H-Apps\"\n",
        "  elif (df['u_business_service'] == 'Research Administration & Compliance Systems > Research Compliance > Data Safety'):\n",
        "                        return \"H-Apps\"\n",
        "  elif (df['u_business_service'] == 'Research Administration & Compliance Systems > Research Administration and Management > Effort Reporting (ECRT)'):\n",
        "                        return \"ECRT\"\n",
        "  elif (df['u_business_service'] == 'Research Administration & Compliance Systems > Research Administration and Management > PI Dashboard'):\n",
        "                        return \"PI-Dashboard\"\n",
        "  elif (df['u_business_service'] == 'Research Administration & Compliance Systems > Research Administration and Management > Research Administration Portal'):\n",
        "                        return \"Admin Portal\"\n",
        "  else:\n",
        "                        return df['u_business_service']\n",
        "\n",
        "# print(df.assignment_group.unique())\n",
        "# print(df.u_business_service.unique())\n",
        "\n",
        "df['Service_Group'] = df.apply(add_apps_column, axis = 1)\n",
        "# print(df.u_business_service.unique(), \"\\n\")\n",
        "print(df.Service_Group.unique(), \"\\n\", \"\\n\")\n",
        "\n",
        "service_group_unique = df.Service_Group.unique()\n",
        "\n",
        "print( f\"service_group_unique type --> {type(service_group_unique)}\" )\n",
        "\n",
        "for index in service_group_unique:\n",
        "  print( f\"index ==> {index}\" )\n",
        "\n",
        "# for service_group in df['Service_Group']:\n",
        "#   print( f\"service_group ==> {service_group}\" )\n",
        "\n",
        "# adding a column for month\n",
        "df['month'] = pd.DatetimeIndex(df['sys_created_on']).month\n",
        "\n",
        "# filling issue codes with Request if they are NA values\n",
        "df['u_issue_code'] = df['u_issue_code'].fillna(\"Request\")\n",
        "# print(df.columns)"
      ],
      "metadata": {
        "colab": {
          "base_uri": "https://localhost:8080/"
        },
        "id": "_gk9XPF0_Q00",
        "outputId": "45552351-414d-4ba9-d750-5580ae452eb8"
      },
      "execution_count": null,
      "outputs": [
        {
          "output_type": "stream",
          "name": "stdout",
          "text": [
            "(769, 21)\n",
            "['H-Apps' 'RACR' 'GMAS' 'ECRT' 'PI-Dashboard' 'Admin Portal'\n",
            " 'IT Tools > Source Code Version Control'\n",
            " 'Enterprise Data Analysis and Reporting > Business Intelligence platform management'\n",
            " 'Enterprise Data Integration > Integrated Data application services'\n",
            " 'Server Administration > Database Services'\n",
            " 'Secure Computing > Privileged Account Management'\n",
            " 'Network Services > Network Self-Service Tools'] \n",
            " \n",
            "\n",
            "service_group_unique type --> <class 'numpy.ndarray'>\n",
            "index ==> H-Apps\n",
            "index ==> RACR\n",
            "index ==> GMAS\n",
            "index ==> ECRT\n",
            "index ==> PI-Dashboard\n",
            "index ==> Admin Portal\n",
            "index ==> IT Tools > Source Code Version Control\n",
            "index ==> Enterprise Data Analysis and Reporting > Business Intelligence platform management\n",
            "index ==> Enterprise Data Integration > Integrated Data application services\n",
            "index ==> Server Administration > Database Services\n",
            "index ==> Secure Computing > Privileged Account Management\n",
            "index ==> Network Services > Network Self-Service Tools\n"
          ]
        }
      ]
    },
    {
      "cell_type": "code",
      "source": [
        "df.Service_Group.value_counts()"
      ],
      "metadata": {
        "id": "WXCwetbBEjAE",
        "colab": {
          "base_uri": "https://localhost:8080/"
        },
        "outputId": "479c2e20-9df0-430e-815e-0b7a09b5a9ba"
      },
      "execution_count": null,
      "outputs": [
        {
          "output_type": "execute_result",
          "data": {
            "text/plain": [
              "Service_Group\n",
              "H-Apps                                                                                356\n",
              "GMAS                                                                                  208\n",
              "ECRT                                                                                   99\n",
              "RACR                                                                                   79\n",
              "PI-Dashboard                                                                           14\n",
              "Server Administration > Database Services                                               6\n",
              "Admin Portal                                                                            2\n",
              "IT Tools > Source Code Version Control                                                  1\n",
              "Enterprise Data Analysis and Reporting > Business Intelligence platform management      1\n",
              "Enterprise Data Integration > Integrated Data application services                      1\n",
              "Secure Computing > Privileged Account Management                                        1\n",
              "Network Services > Network Self-Service Tools                                           1\n",
              "Name: count, dtype: int64"
            ]
          },
          "metadata": {},
          "execution_count": 4
        }
      ]
    },
    {
      "cell_type": "code",
      "source": [
        "df.u_business_service.value_counts()"
      ],
      "metadata": {
        "id": "LLhUasBA_reD",
        "colab": {
          "base_uri": "https://localhost:8080/"
        },
        "outputId": "3933a62a-88af-4c7e-ccc3-086c5e92ed5e"
      },
      "execution_count": null,
      "outputs": [
        {
          "output_type": "execute_result",
          "data": {
            "text/plain": [
              "u_business_service\n",
              "Research Administration & Compliance Systems > Research Administration and Management > Grants Management (GMAS)                          208\n",
              "Research Administration & Compliance Systems > Research Compliance > IRB (ESTR)                                                           170\n",
              "Research Administration & Compliance Systems > Research Administration and Management > Effort Reporting (ECRT)                            99\n",
              "Research Administration & Compliance Systems > Research Compliance > Outside Activity and Interest Reporting (OAIR)                        90\n",
              "Research Administration & Compliance Systems > Research Compliance > Data Safety                                                           80\n",
              "Research Administration & Compliance Systems > Research Administration and Management > Research Administration & Compliance Reporting     79\n",
              "Research Administration & Compliance Systems > Research Compliance > Agreements                                                            16\n",
              "Research Administration & Compliance Systems > Research Administration and Management > PI Dashboard                                       14\n",
              "Server Administration > Database Services                                                                                                   6\n",
              "Research Administration & Compliance Systems > Research Administration and Management > Research Administration Portal                      2\n",
              "IT Tools > Source Code Version Control                                                                                                      1\n",
              "Enterprise Data Analysis and Reporting > Business Intelligence platform management                                                          1\n",
              "Enterprise Data Integration > Integrated Data application services                                                                          1\n",
              "Secure Computing > Privileged Account Management                                                                                            1\n",
              "Network Services > Network Self-Service Tools                                                                                               1\n",
              "Name: count, dtype: int64"
            ]
          },
          "metadata": {},
          "execution_count": 5
        }
      ]
    },
    {
      "cell_type": "code",
      "source": [
        "df.shape"
      ],
      "metadata": {
        "id": "szmPU5KEBN64",
        "colab": {
          "base_uri": "https://localhost:8080/"
        },
        "outputId": "11efe282-7972-4975-d67c-e140a8280596"
      },
      "execution_count": null,
      "outputs": [
        {
          "output_type": "execute_result",
          "data": {
            "text/plain": [
              "(769, 23)"
            ]
          },
          "metadata": {},
          "execution_count": 6
        }
      ]
    },
    {
      "cell_type": "code",
      "source": [
        "# This is the location of RAD apps\n",
        "valid_services = [\"RACR\", \"GMAS\", \"H-Apps\", \"ECRT\", \"PI-Dashboard\", \"Admin Portal\"]\n",
        "valid_assignment_groups = [\"ATS-RACR-Functional\", \"ATS - Data Safety Functional\", \"ATS - Research Admin Functional\", \"ATS - OAIR Functional\",\n",
        "                     \"ATS - ESTR Functional\", \"ATS - DUA Functional\", \"ATS - OSP ECRT Functional\", \"ATS - Research Administration Portal Functional\",\n",
        "                     \"ATS - Research Admin - Technical\", \"ATS - Research Admin - Dashboard\"]"
      ],
      "metadata": {
        "id": "O1_8YisYBqBK"
      },
      "execution_count": null,
      "outputs": []
    },
    {
      "cell_type": "code",
      "source": [
        "df = df[df.Service_Group.isin(valid_services)]\n",
        "df = df[df.assignment_group.isin(valid_assignment_groups)]"
      ],
      "metadata": {
        "id": "KiZLd2kQAvuA"
      },
      "execution_count": null,
      "outputs": []
    },
    {
      "cell_type": "code",
      "source": [
        "df.shape"
      ],
      "metadata": {
        "id": "YHed_D9rDV5g",
        "colab": {
          "base_uri": "https://localhost:8080/"
        },
        "outputId": "a8763153-9d03-4ccd-e2d7-ff8926dd89fd"
      },
      "execution_count": null,
      "outputs": [
        {
          "output_type": "execute_result",
          "data": {
            "text/plain": [
              "(646, 23)"
            ]
          },
          "metadata": {},
          "execution_count": 9
        }
      ]
    },
    {
      "cell_type": "code",
      "source": [
        "try:\n",
        "  df['u_business_service'].mask(df['u_business_service'] == \"Research Administration & Compliance Systems > Research Administration and Management > Research Administration & Compliance Reporting\",\"RACR\", inplace=True)\n",
        "except Exception as NameError:\n",
        "  pass\n",
        "\n",
        "try:\n",
        "  df['u_business_service'].mask(df['u_business_service'] == \"Research Administration & Compliance Systems > Research Administration and Management > Effort Reporting (ECRT)\", \"ECRT\", inplace=True)\n",
        "except Exception as NameError:\n",
        "  pass\n",
        "\n",
        "try:\n",
        "  df['u_business_service'].mask(df['u_business_service'] == \"Research Administration & Compliance Systems > Research Administration and Management > PI Dashboard\", \"PI_Dashboard\", inplace=True)\n",
        "except Exception as NameError:\n",
        "  pass\n",
        "\n",
        "try:\n",
        "  df['u_business_service'].mask(df['u_business_service'] == \"Research Administration & Compliance Systems > Research Compliance > Data Safety\", \"Data_Safety\", inplace=True)\n",
        "except Exception as NameError:\n",
        "  pass\n",
        "\n",
        "try:\n",
        "  df['u_business_service'].mask(df['u_business_service'] == \"Research Administration & Compliance Systems > Research Compliance > IRB (ESTR)\", \"IRB\", inplace=True)\n",
        "except Exception as NameError:\n",
        "  pass\n",
        "\n",
        "try:\n",
        "  df['u_business_service'].mask(df['u_business_service'] == \"Research Administration & Compliance Systems > Research Administration and Management > Grants Management (GMAS)\", \"GMAS\", inplace=True)\n",
        "except Exception as NameError:\n",
        "  pass\n",
        "\n",
        "try:\n",
        "  df['u_business_service'].mask(df['u_business_service'] == \"Research Administration & Compliance Systems > Research Compliance > Outside Activity and Interest Reporting (OAIR)\", \"OAIR\", inplace=True)\n",
        "except Exception as NameError:\n",
        "  pass\n",
        "\n",
        "try:\n",
        "  df['u_business_service'].mask(df['u_business_service'] == \"Research Administration & Compliance Systems > Research Compliance > Agreements\", \"Agreements\", inplace=True)\n",
        "except Exception as NameError:\n",
        "  pass\n",
        "\n",
        "try:\n",
        "  df['u_business_service'].mask(df['u_business_service'] == \"Research Administration & Compliance Systems > Research Administration and Management > Research Administration Portal\", \"Research Admin Portal\", inplace=True)\n",
        "except Exception as NameError:\n",
        "  pass"
      ],
      "metadata": {
        "id": "X5CL5Ycmtlxg"
      },
      "execution_count": null,
      "outputs": []
    },
    {
      "cell_type": "code",
      "source": [
        "print(df.assignment_group.unique())\n",
        "#getting a Dataframe with only cancelled tickets\n",
        "cancelled_tickets_df = df[df.incident_state=='Cancelled']\n",
        "cancelled_tickets_df.shape\n",
        "print(df.shape)\n",
        "df = df[df.incident_state != \"Cancelled\"]\n",
        "print(df.shape)\n",
        "cancelled_tickets_df['month'] = pd.DatetimeIndex(cancelled_tickets_df['sys_created_on']).month"
      ],
      "metadata": {
        "id": "EzwhE234_13o",
        "colab": {
          "base_uri": "https://localhost:8080/"
        },
        "outputId": "736a0fd6-913c-4e17-f418-cae37c9ee303"
      },
      "execution_count": null,
      "outputs": [
        {
          "output_type": "stream",
          "name": "stdout",
          "text": [
            "['ATS - Data Safety Functional' 'ATS-RACR-Functional'\n",
            " 'ATS - OAIR Functional' 'ATS - Research Admin Functional'\n",
            " 'ATS - ESTR Functional' 'ATS - Research Administration Portal Functional'\n",
            " 'ATS - OSP ECRT Functional' 'ATS - DUA Functional'\n",
            " 'ATS - Research Admin - Dashboard' 'ATS - Research Admin - Technical']\n",
            "(646, 23)\n",
            "(504, 23)\n"
          ]
        },
        {
          "output_type": "stream",
          "name": "stderr",
          "text": [
            "<ipython-input-11-73549e1d4fac>:8: SettingWithCopyWarning: \n",
            "A value is trying to be set on a copy of a slice from a DataFrame.\n",
            "Try using .loc[row_indexer,col_indexer] = value instead\n",
            "\n",
            "See the caveats in the documentation: https://pandas.pydata.org/pandas-docs/stable/user_guide/indexing.html#returning-a-view-versus-a-copy\n",
            "  cancelled_tickets_df['month'] = pd.DatetimeIndex(cancelled_tickets_df['sys_created_on']).month\n"
          ]
        }
      ]
    },
    {
      "cell_type": "code",
      "source": [
        "cancelled_tickets_df.u_business_service.value_counts()"
      ],
      "metadata": {
        "id": "FJ35drlqSOFQ",
        "colab": {
          "base_uri": "https://localhost:8080/"
        },
        "outputId": "58e2fd83-c54b-4f46-b078-aeba1d14e415"
      },
      "execution_count": null,
      "outputs": [
        {
          "output_type": "execute_result",
          "data": {
            "text/plain": [
              "u_business_service\n",
              "IRB            76\n",
              "Data_Safety    32\n",
              "RACR           16\n",
              "OAIR           16\n",
              "Agreements      2\n",
              "Name: count, dtype: int64"
            ]
          },
          "metadata": {},
          "execution_count": 12
        }
      ]
    },
    {
      "cell_type": "code",
      "source": [
        "df.u_business_service.value_counts()"
      ],
      "metadata": {
        "id": "UoIoss9UjPSv",
        "colab": {
          "base_uri": "https://localhost:8080/"
        },
        "outputId": "45fb2e4a-9edf-4c55-e9d8-09e97c1f4138"
      },
      "execution_count": null,
      "outputs": [
        {
          "output_type": "execute_result",
          "data": {
            "text/plain": [
              "u_business_service\n",
              "GMAS                     147\n",
              "IRB                       92\n",
              "OAIR                      74\n",
              "RACR                      63\n",
              "ECRT                      54\n",
              "Data_Safety               47\n",
              "Agreements                14\n",
              "PI_Dashboard              12\n",
              "Research Admin Portal      1\n",
              "Name: count, dtype: int64"
            ]
          },
          "metadata": {},
          "execution_count": 13
        }
      ]
    },
    {
      "cell_type": "code",
      "source": [
        "# group_names = df['u_business_service'].unique()\n",
        "# print(group_names , \"\\n\")\n",
        "# print(df.assignment_group.unique(),\"\\n\")\n",
        "# print(df.u_issue_code.unique())"
      ],
      "metadata": {
        "id": "cCg9_YDPtOL9"
      },
      "execution_count": null,
      "outputs": []
    },
    {
      "cell_type": "code",
      "source": [
        "# group_names = df['u_business_service'].unique()\n",
        "# print(group_names)"
      ],
      "metadata": {
        "id": "gEZYNnw3tgTP"
      },
      "execution_count": null,
      "outputs": []
    },
    {
      "cell_type": "code",
      "source": [
        "df['u_business_service'].unique()"
      ],
      "metadata": {
        "id": "KGd9s6Og938Y",
        "colab": {
          "base_uri": "https://localhost:8080/"
        },
        "outputId": "695c09d3-e994-4a1e-eace-78f4696df264"
      },
      "execution_count": null,
      "outputs": [
        {
          "output_type": "execute_result",
          "data": {
            "text/plain": [
              "array(['OAIR', 'IRB', 'GMAS', 'RACR', 'Data_Safety', 'PI_Dashboard',\n",
              "       'Research Admin Portal', 'ECRT', 'Agreements'], dtype=object)"
            ]
          },
          "metadata": {},
          "execution_count": 16
        }
      ]
    },
    {
      "cell_type": "code",
      "source": [
        "RACR_df = df.loc[df[\"u_business_service\"] == \"RACR\", :]\n",
        "ECRT_df = df.loc[df[\"u_business_service\"] == \"ECRT\", :]\n",
        "PI_Dashboard_df = df.loc[df[\"u_business_service\"] == \"PI_Dashboard\", :]\n",
        "Data_Safety_df = df.loc[df[\"u_business_service\"] == \"Data_Safety\", :]\n",
        "IRB_df = df.loc[df[\"u_business_service\"] == \"IRB\", :]\n",
        "GMAS_df = df.loc[df[\"u_business_service\"] == \"GMAS\", :]\n",
        "OAIR_df = df.loc[df[\"u_business_service\"] == \"OAIR\", :]\n",
        "Agreements_df = df.loc[df[\"u_business_service\"] == \"Agreements\", :]\n",
        "Admin_Portal_df = df.loc[df[\"u_business_service\"] == \"Research Admin Portal\", :]"
      ],
      "metadata": {
        "id": "C5UR2RGUt2tf"
      },
      "execution_count": null,
      "outputs": []
    },
    {
      "cell_type": "code",
      "source": [
        "print(f\"The shape of RACR_df is {RACR_df.shape}\")\n",
        "print(f\"The shape of ECRT_df is {ECRT_df.shape}\")\n",
        "print(f\"The shape of PI_Dashboard_df is {PI_Dashboard_df.shape}\")\n",
        "print(f\"The shape of Data_Safety_df is {Data_Safety_df.shape}\")\n",
        "print(f\"The shape of IRB_df is {IRB_df.shape}\")\n",
        "print(f\"The shape of GMAS_df is {GMAS_df.shape}\")\n",
        "print(f\"The shape of OAIR_df is {OAIR_df.shape}\")\n",
        "print(f\"The shape of Agreements_df is {Agreements_df.shape}\")\n",
        "print(f\"The shape of Admin_Portal_df is {Admin_Portal_df.shape}\")"
      ],
      "metadata": {
        "id": "yrLmD11xt40u",
        "colab": {
          "base_uri": "https://localhost:8080/"
        },
        "outputId": "66e29755-4875-4e54-cc04-030969bf9ee0"
      },
      "execution_count": null,
      "outputs": [
        {
          "output_type": "stream",
          "name": "stdout",
          "text": [
            "The shape of RACR_df is (63, 23)\n",
            "The shape of ECRT_df is (54, 23)\n",
            "The shape of PI_Dashboard_df is (12, 23)\n",
            "The shape of Data_Safety_df is (47, 23)\n",
            "The shape of IRB_df is (92, 23)\n",
            "The shape of GMAS_df is (147, 23)\n",
            "The shape of OAIR_df is (74, 23)\n",
            "The shape of Agreements_df is (14, 23)\n",
            "The shape of Admin_Portal_df is (1, 23)\n"
          ]
        }
      ]
    },
    {
      "cell_type": "code",
      "source": [
        "# add month value to GMAS dataframe\n",
        "GMAS_df['month'] = pd.DatetimeIndex(GMAS_df['sys_created_on']).month"
      ],
      "metadata": {
        "id": "eHsA0GeQ-3wX",
        "colab": {
          "base_uri": "https://localhost:8080/"
        },
        "outputId": "b381ed22-ff96-4d9e-8ba2-9ea9df9a462d"
      },
      "execution_count": null,
      "outputs": [
        {
          "output_type": "stream",
          "name": "stderr",
          "text": [
            "<ipython-input-19-1d1a5047a89f>:2: SettingWithCopyWarning: \n",
            "A value is trying to be set on a copy of a slice from a DataFrame.\n",
            "Try using .loc[row_indexer,col_indexer] = value instead\n",
            "\n",
            "See the caveats in the documentation: https://pandas.pydata.org/pandas-docs/stable/user_guide/indexing.html#returning-a-view-versus-a-copy\n",
            "  GMAS_df['month'] = pd.DatetimeIndex(GMAS_df['sys_created_on']).month\n"
          ]
        }
      ]
    },
    {
      "cell_type": "code",
      "source": [
        "RACR_df.u_issue_code.value_counts()"
      ],
      "metadata": {
        "id": "SKPml31okCYk",
        "colab": {
          "base_uri": "https://localhost:8080/"
        },
        "outputId": "e5ebbe4f-64aa-462a-dce2-4cc32c90bbd0"
      },
      "execution_count": null,
      "outputs": [
        {
          "output_type": "execute_result",
          "data": {
            "text/plain": [
              "u_issue_code\n",
              "Request                32\n",
              "Enhancement/Backlog     8\n",
              "Distribution            8\n",
              "New/AdHoc               5\n",
              "Guidance                4\n",
              "Reuse/AdHoc             3\n",
              "Bug fix/Backlog         3\n",
              "Name: count, dtype: int64"
            ]
          },
          "metadata": {},
          "execution_count": 20
        }
      ]
    },
    {
      "cell_type": "code",
      "source": [
        "# from pandas.core.resample import TimedeltaConvertibleTypes\n",
        "def top_issue_codes(title,dataframe, service, groupby_category, fig_size_x, fig_size_y):\n",
        "  top_issues_df = pd.DataFrame(dataframe.groupby([groupby_category])[service].count().sort_values(ascending=False))\n",
        "\n",
        "  fig = df2img.plot_dataframe(\n",
        "      top_issues_df,\n",
        "      title=dict(\n",
        "          font_color=\"darkred\",\n",
        "          font_family=\"Times New Roman\",\n",
        "          font_size=24,\n",
        "          text=title,\n",
        "\n",
        "          xanchor=\"left\",\n",
        "      ),\n",
        "      fig_size=(fig_size_x, fig_size_y),\n",
        "  )\n",
        "  df2img.save_dataframe(fig=fig, filename=\"/content/drive/MyDrive/Report images/\"+title+\".png\")\n"
      ],
      "metadata": {
        "id": "xS4dgcRs_MJz"
      },
      "execution_count": null,
      "outputs": []
    },
    {
      "cell_type": "code",
      "source": [
        "top_issue_codes(\"RACR Top Issue Codes\",RACR_df, \"u_business_service\", \"u_issue_code\", 500, 140)\n",
        "top_issue_codes(\"ECRT Top Issue Codes\",ECRT_df, \"u_business_service\", \"u_issue_code\", 500, 260)\n",
        "top_issue_codes(\"PI Dashboard Top Issue Codes\",PI_Dashboard_df, \"u_business_service\", \"u_issue_code\", 500, 140)\n",
        "top_issue_codes(\"Data Safety Top Issue Codes\",Data_Safety_df, \"u_business_service\", \"u_issue_code\", 500, 200)\n",
        "top_issue_codes(\"IRB Top Issue Codes\",IRB_df, \"u_business_service\", \"u_issue_code\", 500, 300)\n",
        "top_issue_codes(\"GMAS Top Issue Codes\",GMAS_df, \"u_business_service\", \"u_issue_code\", 500, 660)\n",
        "top_issue_codes(\"OAIR Top Issue Codes\",OAIR_df, \"u_business_service\", \"u_issue_code\", 500, 260)\n",
        "top_issue_codes(\"Agreements Top Issue Codes\",Agreements_df, \"u_business_service\", \"u_issue_code\", 500, 200)\n",
        "top_issue_codes(\"Admin Portal Top Issue Codes\",Admin_Portal_df, \"u_business_service\", \"u_issue_code\", 500, 150)"
      ],
      "metadata": {
        "id": "Pni-WoCE_tTc",
        "colab": {
          "base_uri": "https://localhost:8080/",
          "height": 756
        },
        "outputId": "f88632c0-249d-4817-d9c8-b2e84f63714c"
      },
      "execution_count": null,
      "outputs": [
        {
          "output_type": "display_data",
          "data": {
            "image/png": "[encoded data removed]"
          },
          "metadata": {}
        },
        {
          "output_type": "display_data",
          "data": {
            "image/png": "[encoded data removed]"
          },
          "metadata": {}
        },
        {
          "output_type": "error",
          "ename": "KeyboardInterrupt",
          "evalue": "",
          "traceback": [
            "\u001b[0;31m---------------------------------------------------------------------------\u001b[0m",
            "\u001b[0;31mKeyboardInterrupt\u001b[0m                         Traceback (most recent call last)",
            "\u001b[0;32m<ipython-input-22-7df96ba279fb>\u001b[0m in \u001b[0;36m<cell line: 3>\u001b[0;34m()\u001b[0m\n\u001b[1;32m      1\u001b[0m \u001b[0mtop_issue_codes\u001b[0m\u001b[0;34m(\u001b[0m\u001b[0;34m\"RACR Top Issue Codes\"\u001b[0m\u001b[0;34m,\u001b[0m\u001b[0mRACR_df\u001b[0m\u001b[0;34m,\u001b[0m \u001b[0;34m\"u_business_service\"\u001b[0m\u001b[0;34m,\u001b[0m \u001b[0;34m\"u_issue_code\"\u001b[0m\u001b[0;34m,\u001b[0m \u001b[0;36m500\u001b[0m\u001b[0;34m,\u001b[0m \u001b[0;36m140\u001b[0m\u001b[0;34m)\u001b[0m\u001b[0;34m\u001b[0m\u001b[0;34m\u001b[0m\u001b[0m\n\u001b[1;32m      2\u001b[0m \u001b[0mtop_issue_codes\u001b[0m\u001b[0;34m(\u001b[0m\u001b[0;34m\"ECRT Top Issue Codes\"\u001b[0m\u001b[0;34m,\u001b[0m\u001b[0mECRT_df\u001b[0m\u001b[0;34m,\u001b[0m \u001b[0;34m\"u_business_service\"\u001b[0m\u001b[0;34m,\u001b[0m \u001b[0;34m\"u_issue_code\"\u001b[0m\u001b[0;34m,\u001b[0m \u001b[0;36m500\u001b[0m\u001b[0;34m,\u001b[0m \u001b[0;36m260\u001b[0m\u001b[0;34m)\u001b[0m\u001b[0;34m\u001b[0m\u001b[0;34m\u001b[0m\u001b[0m\n\u001b[0;32m----> 3\u001b[0;31m \u001b[0mtop_issue_codes\u001b[0m\u001b[0;34m(\u001b[0m\u001b[0;34m\"PI Dashboard Top Issue Codes\"\u001b[0m\u001b[0;34m,\u001b[0m\u001b[0mPI_Dashboard_df\u001b[0m\u001b[0;34m,\u001b[0m \u001b[0;34m\"u_business_service\"\u001b[0m\u001b[0;34m,\u001b[0m \u001b[0;34m\"u_issue_code\"\u001b[0m\u001b[0;34m,\u001b[0m \u001b[0;36m500\u001b[0m\u001b[0;34m,\u001b[0m \u001b[0;36m140\u001b[0m\u001b[0;34m)\u001b[0m\u001b[0;34m\u001b[0m\u001b[0;34m\u001b[0m\u001b[0m\n\u001b[0m\u001b[1;32m      4\u001b[0m \u001b[0mtop_issue_codes\u001b[0m\u001b[0;34m(\u001b[0m\u001b[0;34m\"Data Safety Top Issue Codes\"\u001b[0m\u001b[0;34m,\u001b[0m\u001b[0mData_Safety_df\u001b[0m\u001b[0;34m,\u001b[0m \u001b[0;34m\"u_business_service\"\u001b[0m\u001b[0;34m,\u001b[0m \u001b[0;34m\"u_issue_code\"\u001b[0m\u001b[0;34m,\u001b[0m \u001b[0;36m500\u001b[0m\u001b[0;34m,\u001b[0m \u001b[0;36m200\u001b[0m\u001b[0;34m)\u001b[0m\u001b[0;34m\u001b[0m\u001b[0;34m\u001b[0m\u001b[0m\n\u001b[1;32m      5\u001b[0m \u001b[0mtop_issue_codes\u001b[0m\u001b[0;34m(\u001b[0m\u001b[0;34m\"IRB Top Issue Codes\"\u001b[0m\u001b[0;34m,\u001b[0m\u001b[0mIRB_df\u001b[0m\u001b[0;34m,\u001b[0m \u001b[0;34m\"u_business_service\"\u001b[0m\u001b[0;34m,\u001b[0m \u001b[0;34m\"u_issue_code\"\u001b[0m\u001b[0;34m,\u001b[0m \u001b[0;36m500\u001b[0m\u001b[0;34m,\u001b[0m \u001b[0;36m300\u001b[0m\u001b[0;34m)\u001b[0m\u001b[0;34m\u001b[0m\u001b[0;34m\u001b[0m\u001b[0m\n",
            "\u001b[0;32m<ipython-input-21-cf561b4253eb>\u001b[0m in \u001b[0;36mtop_issue_codes\u001b[0;34m(title, dataframe, service, groupby_category, fig_size_x, fig_size_y)\u001b[0m\n\u001b[1;32m      3\u001b[0m   \u001b[0mtop_issues_df\u001b[0m \u001b[0;34m=\u001b[0m \u001b[0mpd\u001b[0m\u001b[0;34m.\u001b[0m\u001b[0mDataFrame\u001b[0m\u001b[0;34m(\u001b[0m\u001b[0mdataframe\u001b[0m\u001b[0;34m.\u001b[0m\u001b[0mgroupby\u001b[0m\u001b[0;34m(\u001b[0m\u001b[0;34m[\u001b[0m\u001b[0mgroupby_category\u001b[0m\u001b[0;34m]\u001b[0m\u001b[0;34m)\u001b[0m\u001b[0;34m[\u001b[0m\u001b[0mservice\u001b[0m\u001b[0;34m]\u001b[0m\u001b[0;34m.\u001b[0m\u001b[0mcount\u001b[0m\u001b[0;34m(\u001b[0m\u001b[0;34m)\u001b[0m\u001b[0;34m.\u001b[0m\u001b[0msort_values\u001b[0m\u001b[0;34m(\u001b[0m\u001b[0mascending\u001b[0m\u001b[0;34m=\u001b[0m\u001b[0;32mFalse\u001b[0m\u001b[0;34m)\u001b[0m\u001b[0;34m)\u001b[0m\u001b[0;34m\u001b[0m\u001b[0;34m\u001b[0m\u001b[0m\n\u001b[1;32m      4\u001b[0m \u001b[0;34m\u001b[0m\u001b[0m\n\u001b[0;32m----> 5\u001b[0;31m   fig = df2img.plot_dataframe(\n\u001b[0m\u001b[1;32m      6\u001b[0m       \u001b[0mtop_issues_df\u001b[0m\u001b[0;34m,\u001b[0m\u001b[0;34m\u001b[0m\u001b[0;34m\u001b[0m\u001b[0m\n\u001b[1;32m      7\u001b[0m       title=dict(\n",
            "\u001b[0;32m/usr/local/lib/python3.10/dist-packages/df2img/main.py\u001b[0m in \u001b[0;36mplot_dataframe\u001b[0;34m(df, print_index, title, tbl_header_visible, tbl_header, tbl_cells, row_fill_color, col_width, fig_size, show_fig, plotly_renderer, **layout_kwargs)\u001b[0m\n\u001b[1;32m    172\u001b[0m     )\n\u001b[1;32m    173\u001b[0m \u001b[0;34m\u001b[0m\u001b[0m\n\u001b[0;32m--> 174\u001b[0;31m     fig.update_layout(\n\u001b[0m\u001b[1;32m    175\u001b[0m         \u001b[0mtitle\u001b[0m\u001b[0;34m=\u001b[0m\u001b[0mtitle\u001b[0m\u001b[0;34m,\u001b[0m\u001b[0;34m\u001b[0m\u001b[0;34m\u001b[0m\u001b[0m\n\u001b[1;32m    176\u001b[0m         margin={\n",
            "\u001b[0;32m/usr/local/lib/python3.10/dist-packages/plotly/graph_objs/_figure.py\u001b[0m in \u001b[0;36mupdate_layout\u001b[0;34m(self, dict1, overwrite, **kwargs)\u001b[0m\n\u001b[1;32m    773\u001b[0m \u001b[0;34m\u001b[0m\u001b[0m\n\u001b[1;32m    774\u001b[0m         \"\"\"\n\u001b[0;32m--> 775\u001b[0;31m         \u001b[0;32mreturn\u001b[0m \u001b[0msuper\u001b[0m\u001b[0;34m(\u001b[0m\u001b[0mFigure\u001b[0m\u001b[0;34m,\u001b[0m \u001b[0mself\u001b[0m\u001b[0;34m)\u001b[0m\u001b[0;34m.\u001b[0m\u001b[0mupdate_layout\u001b[0m\u001b[0;34m(\u001b[0m\u001b[0mdict1\u001b[0m\u001b[0;34m,\u001b[0m \u001b[0moverwrite\u001b[0m\u001b[0;34m,\u001b[0m \u001b[0;34m**\u001b[0m\u001b[0mkwargs\u001b[0m\u001b[0;34m)\u001b[0m\u001b[0;34m\u001b[0m\u001b[0;34m\u001b[0m\u001b[0m\n\u001b[0m\u001b[1;32m    776\u001b[0m \u001b[0;34m\u001b[0m\u001b[0m\n\u001b[1;32m    777\u001b[0m     def for_each_trace(\n",
            "\u001b[0;32m/usr/local/lib/python3.10/dist-packages/plotly/basedatatypes.py\u001b[0m in \u001b[0;36mupdate_layout\u001b[0;34m(self, dict1, overwrite, **kwargs)\u001b[0m\n\u001b[1;32m   1391\u001b[0m             \u001b[0mThe\u001b[0m \u001b[0mFigure\u001b[0m \u001b[0mobject\u001b[0m \u001b[0mthat\u001b[0m \u001b[0mthe\u001b[0m \u001b[0mupdate_layout\u001b[0m \u001b[0mmethod\u001b[0m \u001b[0mwas\u001b[0m \u001b[0mcalled\u001b[0m \u001b[0mon\u001b[0m\u001b[0;34m\u001b[0m\u001b[0;34m\u001b[0m\u001b[0m\n\u001b[1;32m   1392\u001b[0m         \"\"\"\n\u001b[0;32m-> 1393\u001b[0;31m         \u001b[0mself\u001b[0m\u001b[0;34m.\u001b[0m\u001b[0mlayout\u001b[0m\u001b[0;34m.\u001b[0m\u001b[0mupdate\u001b[0m\u001b[0;34m(\u001b[0m\u001b[0mdict1\u001b[0m\u001b[0;34m,\u001b[0m \u001b[0moverwrite\u001b[0m\u001b[0;34m=\u001b[0m\u001b[0moverwrite\u001b[0m\u001b[0;34m,\u001b[0m \u001b[0;34m**\u001b[0m\u001b[0mkwargs\u001b[0m\u001b[0;34m)\u001b[0m\u001b[0;34m\u001b[0m\u001b[0;34m\u001b[0m\u001b[0m\n\u001b[0m\u001b[1;32m   1394\u001b[0m         \u001b[0;32mreturn\u001b[0m \u001b[0mself\u001b[0m\u001b[0;34m\u001b[0m\u001b[0;34m\u001b[0m\u001b[0m\n\u001b[1;32m   1395\u001b[0m \u001b[0;34m\u001b[0m\u001b[0m\n",
            "\u001b[0;32m/usr/local/lib/python3.10/dist-packages/plotly/basedatatypes.py\u001b[0m in \u001b[0;36mupdate\u001b[0;34m(self, dict1, overwrite, **kwargs)\u001b[0m\n\u001b[1;32m   5134\u001b[0m             \u001b[0;32mwith\u001b[0m \u001b[0mself\u001b[0m\u001b[0;34m.\u001b[0m\u001b[0mfigure\u001b[0m\u001b[0;34m.\u001b[0m\u001b[0mbatch_update\u001b[0m\u001b[0;34m(\u001b[0m\u001b[0;34m)\u001b[0m\u001b[0;34m:\u001b[0m\u001b[0;34m\u001b[0m\u001b[0;34m\u001b[0m\u001b[0m\n\u001b[1;32m   5135\u001b[0m                 \u001b[0mBaseFigure\u001b[0m\u001b[0;34m.\u001b[0m\u001b[0m_perform_update\u001b[0m\u001b[0;34m(\u001b[0m\u001b[0mself\u001b[0m\u001b[0;34m,\u001b[0m \u001b[0mdict1\u001b[0m\u001b[0;34m,\u001b[0m \u001b[0moverwrite\u001b[0m\u001b[0;34m=\u001b[0m\u001b[0moverwrite\u001b[0m\u001b[0;34m)\u001b[0m\u001b[0;34m\u001b[0m\u001b[0;34m\u001b[0m\u001b[0m\n\u001b[0;32m-> 5136\u001b[0;31m                 \u001b[0mBaseFigure\u001b[0m\u001b[0;34m.\u001b[0m\u001b[0m_perform_update\u001b[0m\u001b[0;34m(\u001b[0m\u001b[0mself\u001b[0m\u001b[0;34m,\u001b[0m \u001b[0mkwargs\u001b[0m\u001b[0;34m,\u001b[0m \u001b[0moverwrite\u001b[0m\u001b[0;34m=\u001b[0m\u001b[0moverwrite\u001b[0m\u001b[0;34m)\u001b[0m\u001b[0;34m\u001b[0m\u001b[0;34m\u001b[0m\u001b[0m\n\u001b[0m\u001b[1;32m   5137\u001b[0m         \u001b[0;32melse\u001b[0m\u001b[0;34m:\u001b[0m\u001b[0;34m\u001b[0m\u001b[0;34m\u001b[0m\u001b[0m\n\u001b[1;32m   5138\u001b[0m             \u001b[0mBaseFigure\u001b[0m\u001b[0;34m.\u001b[0m\u001b[0m_perform_update\u001b[0m\u001b[0;34m(\u001b[0m\u001b[0mself\u001b[0m\u001b[0;34m,\u001b[0m \u001b[0mdict1\u001b[0m\u001b[0;34m,\u001b[0m \u001b[0moverwrite\u001b[0m\u001b[0;34m=\u001b[0m\u001b[0moverwrite\u001b[0m\u001b[0;34m)\u001b[0m\u001b[0;34m\u001b[0m\u001b[0;34m\u001b[0m\u001b[0m\n",
            "\u001b[0;32m/usr/local/lib/python3.10/dist-packages/plotly/basedatatypes.py\u001b[0m in \u001b[0;36m_perform_update\u001b[0;34m(plotly_obj, update_obj, overwrite)\u001b[0m\n\u001b[1;32m   3891\u001b[0m                         \u001b[0;32mcontinue\u001b[0m\u001b[0;34m\u001b[0m\u001b[0;34m\u001b[0m\u001b[0m\n\u001b[1;32m   3892\u001b[0m \u001b[0;34m\u001b[0m\u001b[0m\n\u001b[0;32m-> 3893\u001b[0;31m                 \u001b[0merr\u001b[0m \u001b[0;34m=\u001b[0m \u001b[0m_check_path_in_prop_tree\u001b[0m\u001b[0;34m(\u001b[0m\u001b[0mplotly_obj\u001b[0m\u001b[0;34m,\u001b[0m \u001b[0mkey\u001b[0m\u001b[0;34m,\u001b[0m \u001b[0merror_cast\u001b[0m\u001b[0;34m=\u001b[0m\u001b[0mValueError\u001b[0m\u001b[0;34m)\u001b[0m\u001b[0;34m\u001b[0m\u001b[0;34m\u001b[0m\u001b[0m\n\u001b[0m\u001b[1;32m   3894\u001b[0m                 \u001b[0;32mif\u001b[0m \u001b[0merr\u001b[0m \u001b[0;32mis\u001b[0m \u001b[0;32mnot\u001b[0m \u001b[0;32mNone\u001b[0m\u001b[0;34m:\u001b[0m\u001b[0;34m\u001b[0m\u001b[0;34m\u001b[0m\u001b[0m\n\u001b[1;32m   3895\u001b[0m                     \u001b[0;32mraise\u001b[0m \u001b[0merr\u001b[0m\u001b[0;34m\u001b[0m\u001b[0;34m\u001b[0m\u001b[0m\n",
            "\u001b[0;32m/usr/local/lib/python3.10/dist-packages/plotly/basedatatypes.py\u001b[0m in \u001b[0;36m_check_path_in_prop_tree\u001b[0;34m(obj, path, error_cast)\u001b[0m\n\u001b[1;32m    184\u001b[0m         \u001b[0mprev_objs\u001b[0m\u001b[0;34m.\u001b[0m\u001b[0mappend\u001b[0m\u001b[0;34m(\u001b[0m\u001b[0mobj\u001b[0m\u001b[0;34m)\u001b[0m\u001b[0;34m\u001b[0m\u001b[0;34m\u001b[0m\u001b[0m\n\u001b[1;32m    185\u001b[0m         \u001b[0;32mtry\u001b[0m\u001b[0;34m:\u001b[0m\u001b[0;34m\u001b[0m\u001b[0;34m\u001b[0m\u001b[0m\n\u001b[0;32m--> 186\u001b[0;31m             \u001b[0mobj\u001b[0m \u001b[0;34m=\u001b[0m \u001b[0mobj\u001b[0m\u001b[0;34m[\u001b[0m\u001b[0mp\u001b[0m\u001b[0;34m]\u001b[0m\u001b[0;34m\u001b[0m\u001b[0;34m\u001b[0m\u001b[0m\n\u001b[0m\u001b[1;32m    187\u001b[0m         \u001b[0;32mexcept\u001b[0m \u001b[0;34m(\u001b[0m\u001b[0mValueError\u001b[0m\u001b[0;34m,\u001b[0m \u001b[0mKeyError\u001b[0m\u001b[0;34m,\u001b[0m \u001b[0mIndexError\u001b[0m\u001b[0;34m,\u001b[0m \u001b[0mTypeError\u001b[0m\u001b[0;34m)\u001b[0m \u001b[0;32mas\u001b[0m \u001b[0me\u001b[0m\u001b[0;34m:\u001b[0m\u001b[0;34m\u001b[0m\u001b[0;34m\u001b[0m\u001b[0m\n\u001b[1;32m    188\u001b[0m             \u001b[0marg\u001b[0m \u001b[0;34m=\u001b[0m \u001b[0me\u001b[0m\u001b[0;34m.\u001b[0m\u001b[0margs\u001b[0m\u001b[0;34m[\u001b[0m\u001b[0;36m0\u001b[0m\u001b[0;34m]\u001b[0m\u001b[0;34m\u001b[0m\u001b[0;34m\u001b[0m\u001b[0m\n",
            "\u001b[0;32m/usr/local/lib/python3.10/dist-packages/plotly/basedatatypes.py\u001b[0m in \u001b[0;36m__getitem__\u001b[0;34m(self, prop)\u001b[0m\n\u001b[1;32m   5844\u001b[0m         \"\"\"\n\u001b[1;32m   5845\u001b[0m         \u001b[0mprop\u001b[0m \u001b[0;34m=\u001b[0m \u001b[0mself\u001b[0m\u001b[0;34m.\u001b[0m\u001b[0m_strip_subplot_suffix_of_1\u001b[0m\u001b[0;34m(\u001b[0m\u001b[0mprop\u001b[0m\u001b[0;34m)\u001b[0m\u001b[0;34m\u001b[0m\u001b[0;34m\u001b[0m\u001b[0m\n\u001b[0;32m-> 5846\u001b[0;31m         \u001b[0;32mreturn\u001b[0m \u001b[0msuper\u001b[0m\u001b[0;34m(\u001b[0m\u001b[0mBaseLayoutHierarchyType\u001b[0m\u001b[0;34m,\u001b[0m \u001b[0mself\u001b[0m\u001b[0;34m)\u001b[0m\u001b[0;34m.\u001b[0m\u001b[0m__getitem__\u001b[0m\u001b[0;34m(\u001b[0m\u001b[0mprop\u001b[0m\u001b[0;34m)\u001b[0m\u001b[0;34m\u001b[0m\u001b[0;34m\u001b[0m\u001b[0m\n\u001b[0m\u001b[1;32m   5847\u001b[0m \u001b[0;34m\u001b[0m\u001b[0m\n\u001b[1;32m   5848\u001b[0m     \u001b[0;32mdef\u001b[0m \u001b[0m__contains__\u001b[0m\u001b[0;34m(\u001b[0m\u001b[0mself\u001b[0m\u001b[0;34m,\u001b[0m \u001b[0mprop\u001b[0m\u001b[0;34m)\u001b[0m\u001b[0;34m:\u001b[0m\u001b[0;34m\u001b[0m\u001b[0;34m\u001b[0m\u001b[0m\n",
            "\u001b[0;32m/usr/local/lib/python3.10/dist-packages/plotly/basedatatypes.py\u001b[0m in \u001b[0;36m__getitem__\u001b[0;34m(self, prop)\u001b[0m\n\u001b[1;32m   4720\u001b[0m                 )\n\u001b[1;32m   4721\u001b[0m \u001b[0;34m\u001b[0m\u001b[0m\n\u001b[0;32m-> 4722\u001b[0;31m             \u001b[0mvalidator\u001b[0m \u001b[0;34m=\u001b[0m \u001b[0mself\u001b[0m\u001b[0;34m.\u001b[0m\u001b[0m_get_validator\u001b[0m\u001b[0;34m(\u001b[0m\u001b[0mprop\u001b[0m\u001b[0;34m)\u001b[0m\u001b[0;34m\u001b[0m\u001b[0;34m\u001b[0m\u001b[0m\n\u001b[0m\u001b[1;32m   4723\u001b[0m \u001b[0;34m\u001b[0m\u001b[0m\n\u001b[1;32m   4724\u001b[0m             \u001b[0;32mif\u001b[0m \u001b[0misinstance\u001b[0m\u001b[0;34m(\u001b[0m\u001b[0mvalidator\u001b[0m\u001b[0;34m,\u001b[0m \u001b[0mCompoundValidator\u001b[0m\u001b[0;34m)\u001b[0m\u001b[0;34m:\u001b[0m\u001b[0;34m\u001b[0m\u001b[0;34m\u001b[0m\u001b[0m\n",
            "\u001b[0;32m/usr/local/lib/python3.10/dist-packages/plotly/basedatatypes.py\u001b[0m in \u001b[0;36m_get_validator\u001b[0;34m(self, prop)\u001b[0m\n\u001b[1;32m   4341\u001b[0m         \u001b[0;32mfrom\u001b[0m \u001b[0;34m.\u001b[0m\u001b[0mvalidator_cache\u001b[0m \u001b[0;32mimport\u001b[0m \u001b[0mValidatorCache\u001b[0m\u001b[0;34m\u001b[0m\u001b[0;34m\u001b[0m\u001b[0m\n\u001b[1;32m   4342\u001b[0m \u001b[0;34m\u001b[0m\u001b[0m\n\u001b[0;32m-> 4343\u001b[0;31m         \u001b[0;32mreturn\u001b[0m \u001b[0mValidatorCache\u001b[0m\u001b[0;34m.\u001b[0m\u001b[0mget_validator\u001b[0m\u001b[0;34m(\u001b[0m\u001b[0mself\u001b[0m\u001b[0;34m.\u001b[0m\u001b[0m_path_str\u001b[0m\u001b[0;34m,\u001b[0m \u001b[0mprop\u001b[0m\u001b[0;34m)\u001b[0m\u001b[0;34m\u001b[0m\u001b[0;34m\u001b[0m\u001b[0m\n\u001b[0m\u001b[1;32m   4344\u001b[0m \u001b[0;34m\u001b[0m\u001b[0m\n\u001b[1;32m   4345\u001b[0m     \u001b[0;34m@\u001b[0m\u001b[0mproperty\u001b[0m\u001b[0;34m\u001b[0m\u001b[0;34m\u001b[0m\u001b[0m\n",
            "\u001b[0;32m/usr/local/lib/python3.10/dist-packages/plotly/validator_cache.py\u001b[0m in \u001b[0;36mget_validator\u001b[0;34m(parent_path, prop_name)\u001b[0m\n\u001b[1;32m      6\u001b[0m     \u001b[0m_cache\u001b[0m \u001b[0;34m=\u001b[0m \u001b[0;34m{\u001b[0m\u001b[0;34m}\u001b[0m\u001b[0;34m\u001b[0m\u001b[0;34m\u001b[0m\u001b[0m\n\u001b[1;32m      7\u001b[0m \u001b[0;34m\u001b[0m\u001b[0m\n\u001b[0;32m----> 8\u001b[0;31m     \u001b[0;34m@\u001b[0m\u001b[0mstaticmethod\u001b[0m\u001b[0;34m\u001b[0m\u001b[0;34m\u001b[0m\u001b[0m\n\u001b[0m\u001b[1;32m      9\u001b[0m     \u001b[0;32mdef\u001b[0m \u001b[0mget_validator\u001b[0m\u001b[0;34m(\u001b[0m\u001b[0mparent_path\u001b[0m\u001b[0;34m,\u001b[0m \u001b[0mprop_name\u001b[0m\u001b[0;34m)\u001b[0m\u001b[0;34m:\u001b[0m\u001b[0;34m\u001b[0m\u001b[0;34m\u001b[0m\u001b[0m\n\u001b[1;32m     10\u001b[0m \u001b[0;34m\u001b[0m\u001b[0m\n",
            "\u001b[0;31mKeyboardInterrupt\u001b[0m: "
          ]
        }
      ]
    },
    {
      "cell_type": "code",
      "source": [
        "## Parameters - title, dataframe, column name that you want a count of, categories/hue, x_scale, top_x:\n",
        "def plot_df(title, dataframe,count_col,categories, xscale, top_x ):\n",
        "  \"\"\"\n",
        "  Enter the dataframe you want to plot as the first argument.\n",
        "  Enter the name of the column in quotes for the second argument.\n",
        "  The third argument determines the hue; pick a column that you want\n",
        "  to represent with different colors. Xscale number adjusts the tick marks.\n",
        "  Top_x is to select the top x items to display\n",
        "  \"\"\"\n",
        "  sns.set_theme(style=\"darkgrid\", rc={'figure.figsize':(12,8)})\n",
        "  g = sns.countplot(data=dataframe, y=count_col, hue=categories, palette=\"husl\", order=dataframe[count_col].value_counts().iloc[:top_x].index)\n",
        "  g.set_title(title, fontsize=15)\n",
        "  # g.set_xticks(range(dataframe[\"month\"].value_counts().max()))\n",
        "  g.set_xticks(range(0,dataframe.groupby([count_col], sort=True)['month'].value_counts().max()+8,xscale))\n",
        "\n",
        "  g.set_xlabel(\"\\n Count of Tickets\")\n",
        "  g.set_ylabel(count_col)\n",
        "\n",
        "  ax = g.axes\n",
        "  for p in ax.patches:\n",
        "    ax.annotate(f'{p.get_width()}', (p.get_x() + p.get_width() + 2, p.get_y() + p.get_height() / 1.8), ha='center')\n",
        "  plt.tight_layout()\n",
        "\n",
        "  plt.savefig(\"/content/drive/MyDrive/Report images/\"+title+\".png\")\n",
        "\n",
        "\n",
        "def plot_df_issuecodes(title, dataframe,count_col,categories, xscale, top_x ):\n",
        "  \"\"\"\n",
        "  Enter the dataframe you want to plot as the first argument.\n",
        "  Enter the name of the column in quotes for the second argument.\n",
        "  The third argument determines the hue; pick a column that you want\n",
        "  to represent with different colors. Xscale number adjusts the tick marks.\n",
        "  Top_x is to select the top x items to display\n",
        "  \"\"\"\n",
        "  sns.set_theme(style=\"darkgrid\", rc={'figure.figsize':(12,8)})\n",
        "  g = sns.countplot(data=dataframe, y=count_col, hue=categories, palette=\"husl\", order=dataframe[count_col].value_counts().iloc[:top_x].index)\n",
        "  g.set_title(title, fontsize=15)\n",
        "\n",
        "  g.set_xlabel(\"\\n Count of Tickets\")\n",
        "  g.set_ylabel(count_col)\n",
        "  plt.tight_layout()\n",
        "\n",
        "  ax = g.axes\n",
        "  for p in ax.patches:\n",
        "    ax.annotate(str(int(p.get_width())), (p.get_x() + p.get_width() + 1.3, p.get_y() + p.get_height() / 1.3), ha='center')\n",
        "    plt.tight_layout()\n",
        "\n",
        "  plt.savefig(\"/content/drive/MyDrive/Report images/\"+title+\".png\")"
      ],
      "metadata": {
        "id": "aZfzuA10AMq6"
      },
      "execution_count": null,
      "outputs": []
    },
    {
      "cell_type": "code",
      "source": [
        "# try:\n",
        "#   cancelled_tickets_df['u_business_service'].mask(cancelled_tickets_df['u_business_service'] == \"Research Administration & Compliance Systems > Research Administration and Management > Research Administration & Compliance Reporting\", \"RACR\", inplace=True)\n",
        "# except Exception as NameError:\n",
        "#   pass\n",
        "\n",
        "# try:\n",
        "#   cancelled_tickets_df['u_business_service'].mask(cancelled_tickets_df['u_business_service'] == \"Research Administration & Compliance Systems > Research Administration and Management > Effort Reporting (ECRT)\", \"ECRT\", inplace=True)\n",
        "# except Exception as NameError:\n",
        "#   pass\n",
        "\n",
        "# try:\n",
        "#   cancelled_tickets_df['u_business_service'].mask(cancelled_tickets_df['u_business_service'] == \"Research Administration & Compliance Systems > Research Administration and Management > PI Dashboard\", \"PI_Dashboard\", inplace=True)\n",
        "# except Exception as NameError:\n",
        "#   pass\n",
        "\n",
        "# try:\n",
        "#   cancelled_tickets_df['u_business_service'].mask(cancelled_tickets_df['u_business_service'] == \"Research Administration & Compliance Systems > Research Compliance > Data Safety\", \"Data_Safety\", inplace=True)\n",
        "# except Exception as NameError:\n",
        "#   pass\n",
        "\n",
        "# try:\n",
        "#   cancelled_tickets_df['u_business_service'].mask(cancelled_tickets_df['u_business_service'] == \"Research Administration & Compliance Systems > Research Compliance > IRB (ESTR)\", \"IRB\", inplace=True)\n",
        "# except Exception as NameError:\n",
        "#   pass\n",
        "\n",
        "# try:\n",
        "#   cancelled_tickets_df['u_business_service'].mask(cancelled_tickets_df['u_business_service'] == \"Research Administration & Compliance Systems > Research Administration and Management > Grants Management (GMAS)\", \"GMAS\", inplace=True)\n",
        "# except Exception as NameError:\n",
        "#   pass\n",
        "\n",
        "# try:\n",
        "#   cancelled_tickets_df['u_business_service'].mask(cancelled_tickets_df['u_business_service'] == \"Research Administration & Compliance Systems > Research Compliance > Outside Activity and Interest Reporting (OAIR)\", \"OAIR\", inplace=True)\n",
        "# except Exception as NameError:\n",
        "#   pass\n",
        "\n",
        "# try:\n",
        "#   cancelled_tickets_df['u_business_service'].mask(cancelled_tickets_df['u_business_service'] == \"Research Administration & Compliance Systems > Research Compliance > Agreements\", \"Agreements\", inplace=True)\n",
        "# except Exception as NameError:\n",
        "#   pass\n",
        "\n",
        "# try:\n",
        "#   cancelled_tickets_df['u_business_service'].mask(cancelled_tickets_df['u_business_service'] == \"Research Administration & Compliance Systems > Research Administration and Management > Research Administration Portal\", \"Research Admin Portal\", inplace=True)\n",
        "# except Exception as NameError:\n",
        "#   pass\n"
      ],
      "metadata": {
        "id": "BADYWP1ZAYMP"
      },
      "execution_count": null,
      "outputs": []
    },
    {
      "cell_type": "code",
      "source": [
        "def plot_df(title, dataframe,count_col,categories, xscale, top_x ):\n",
        "  \"\"\"\n",
        "  Enter the dataframe you want to plot as the first argument.\n",
        "  Enter the name of the column in quotes for the second argument.\n",
        "  The third argument determines the hue; pick a column that you want\n",
        "  to represent with different colors. Xscale number adjusts the tick marks.\n",
        "  Top_x is to select the top x items to display\n",
        "  \"\"\"\n",
        "  sns.set_theme(style=\"darkgrid\", rc={'figure.figsize':(12,8)})\n",
        "  g = sns.countplot(data=dataframe, y=count_col, hue=categories, palette=\"husl\", order=dataframe[count_col].value_counts().iloc[:top_x].index)\n",
        "  g.set_title(title, fontsize=15)\n",
        "  # g.set_xticks(range(dataframe[\"month\"].value_counts().max()))\n",
        "  g.set_xticks(range(0,dataframe.groupby([count_col], sort=True)['month'].value_counts().max()+8,xscale))\n",
        "\n",
        "  g.set_xlabel(\"\\n Count of Tickets\")\n",
        "  g.set_ylabel(count_col)\n",
        "\n",
        "  ax = g.axes\n",
        "  for p in ax.patches:\n",
        "    ax.annotate(str(int(p.get_width())), (p.get_x() + p.get_width() + 1.3, p.get_y() + p.get_height() / 1.3), ha='center')\n",
        "    plt.tight_layout()\n",
        "\n",
        "plot_df(\"Cancelled Tickets by Service\", cancelled_tickets_df, \"incident_state\", \"u_business_service\", 5, 8)"
      ],
      "metadata": {
        "id": "VEpwcBR_A5A4"
      },
      "execution_count": null,
      "outputs": []
    },
    {
      "cell_type": "code",
      "source": [
        "agg_df = df['Service_Group'].value_counts()\n",
        "# agg_df\n",
        "\n",
        "agg_df.head()"
      ],
      "metadata": {
        "id": "9jDYayxsZWw-"
      },
      "execution_count": null,
      "outputs": []
    },
    {
      "cell_type": "code",
      "source": [
        "def aggregate(title,columns,df):\n",
        "    aggdf = df[columns].value_counts()\n",
        "\n",
        "    # create barplot using seaborn\n",
        "    ax = sns.barplot(x=aggdf.index, y=aggdf.values)\n",
        "\n",
        "    # add value labels on barplot\n",
        "    for bars in ax.containers:\n",
        "      ax.bar_label(bars)\n",
        "\n",
        "    plt.title(title, fontsize=16)\n",
        "    plt.xlabel(\"Application\")\n",
        "    plt.ylabel(\"Count of Tickets\")\n",
        "\n",
        "    plt.tight_layout()\n",
        "    plt.savefig(\"/content/drive/MyDrive/Report images/Aggregate Tickets by Application\")\n",
        "\n",
        "\n",
        "# aggregate(\"Aggregate Tickets by Application \\n\",'Service_Group',df)\n",
        "aggregate(\"Aggregate Tickets by Application \\n\",'Service_Group',df)"
      ],
      "metadata": {
        "id": "euuMxFIibHpV"
      },
      "execution_count": null,
      "outputs": []
    },
    {
      "cell_type": "code",
      "source": [
        "def plot_df(title, dataframe,count_col,categories, xscale, top_x ):\n",
        "  \"\"\"\n",
        "  Enter the dataframe you want to plot as the first argument.\n",
        "  Enter the name of the column in quotes for the second argument.\n",
        "  The third argument determines the hue; pick a column that you want\n",
        "  to represent with different colors. Xscale number adjusts the tick marks.\n",
        "  Top_x is to select the top x items to display\n",
        "  \"\"\"\n",
        "  sns.set_theme(style=\"darkgrid\", rc={'figure.figsize':(12,8)})\n",
        "  g = sns.countplot(data=dataframe, y=count_col, hue=categories, palette=\"husl\", order=dataframe[count_col].value_counts().iloc[:top_x].index)\n",
        "  g.set_title(title, fontsize=15)\n",
        "  # g.set_xticks(range(dataframe[\"month\"].value_counts().max()))\n",
        "  g.set_xticks(range(0,dataframe.groupby([count_col], sort=True)['month'].value_counts().max()+8,xscale))\n",
        "\n",
        "  g.set_xlabel(\"\\n Count of Tickets\")\n",
        "  g.set_ylabel(count_col)\n",
        "\n",
        "  ax = g.axes\n",
        "  for p in ax.patches:\n",
        "    ax.annotate(str(int(p.get_width())), (p.get_x() + p.get_width() + 1.3, p.get_y() + p.get_height() / 1.3), ha='center')\n",
        "    plt.tight_layout()\n",
        "\n",
        "  plt.savefig(\"/content/drive/MyDrive/Report images/\"+title+\".png\")\n",
        "\n",
        "plot_df(\"Monthly Total Tickets by Service\", df, \"u_business_service\", \"month\", 5, 8)\n",
        "\n",
        "# add value labels on plot\n"
      ],
      "metadata": {
        "id": "ryOg4uQWcGvQ"
      },
      "execution_count": null,
      "outputs": []
    },
    {
      "cell_type": "code",
      "source": [
        "plot_df(\"RACR Top 6 Issue Codes by Month\", RACR_df, \"u_issue_code\", \"month\",2, 5)"
      ],
      "metadata": {
        "id": "4znX06I9eGiL"
      },
      "execution_count": null,
      "outputs": []
    },
    {
      "cell_type": "code",
      "source": [
        "plot_df_issuecodes(\"RACR Issue Codes Breakdown\", RACR_df, \"u_issue_code\", \"u_category\",5, 8)"
      ],
      "metadata": {
        "id": "cdheq8uqeIwX"
      },
      "execution_count": null,
      "outputs": []
    },
    {
      "cell_type": "code",
      "source": [
        "plot_df(\"ECRT Top 6 Issue Codes by Month\", ECRT_df, \"u_issue_code\", \"month\", 2, 6)"
      ],
      "metadata": {
        "id": "FGph1B9weKRd"
      },
      "execution_count": null,
      "outputs": []
    },
    {
      "cell_type": "code",
      "source": [
        "plot_df_issuecodes(\"ECRT Issue Codes Breakdown\", ECRT_df, \"u_issue_code\", \"u_category\",6, 6)"
      ],
      "metadata": {
        "id": "DVJKjPfAeLtF"
      },
      "execution_count": null,
      "outputs": []
    },
    {
      "cell_type": "code",
      "source": [
        "plot_df(\"PI Dashboard Top 6 Issue Codes by Month\", PI_Dashboard_df, \"u_issue_code\", \"month\",1,6)"
      ],
      "metadata": {
        "id": "cEjGZBsReNYK"
      },
      "execution_count": null,
      "outputs": []
    },
    {
      "cell_type": "code",
      "source": [
        "plot_df(\"Data Safety Top 6 Issue Codes by Month\", Data_Safety_df, \"u_issue_code\", \"month\", 1, 5)"
      ],
      "metadata": {
        "id": "kGYdFYBWePA2"
      },
      "execution_count": null,
      "outputs": []
    },
    {
      "cell_type": "code",
      "source": [
        "plot_df_issuecodes(\"Data Safety Issue Codes Breakdown\", Data_Safety_df, \"u_issue_code\", \"u_category\",6, 6)"
      ],
      "metadata": {
        "id": "exxe9z5peQ2W"
      },
      "execution_count": null,
      "outputs": []
    },
    {
      "cell_type": "code",
      "source": [
        "plot_df(\"IRB Top 6 Issue Codes by Month\", IRB_df, \"u_issue_code\", \"month\",1,6)"
      ],
      "metadata": {
        "id": "zeg31cfmdZzx"
      },
      "execution_count": null,
      "outputs": []
    },
    {
      "cell_type": "code",
      "source": [
        "plot_df_issuecodes(\"IRB Issue Codes Breakdown\", IRB_df, \"u_issue_code\", \"u_category\",6, 6)"
      ],
      "metadata": {
        "id": "yQ0QM-lweUDe"
      },
      "execution_count": null,
      "outputs": []
    },
    {
      "cell_type": "code",
      "source": [
        "plot_df(\"GMAS Top 6 Issue Codes by Month\", GMAS_df, \"u_issue_code\", \"month\", 2, 6)"
      ],
      "metadata": {
        "id": "YMaTWPkyeVhe"
      },
      "execution_count": null,
      "outputs": []
    },
    {
      "cell_type": "code",
      "source": [
        "plot_df_issuecodes(\"GMAS Issue Codes Breakdown\", GMAS_df, \"u_issue_code\", \"u_category\",6, 6)"
      ],
      "metadata": {
        "id": "ya5gupr7eXR-"
      },
      "execution_count": null,
      "outputs": []
    },
    {
      "cell_type": "code",
      "source": [
        "plot_df(\"OAIR Top 6 Issue Codes by Month\", OAIR_df, \"u_issue_code\", \"month\", 2, 6)"
      ],
      "metadata": {
        "id": "nOKNW6Z8eYvm"
      },
      "execution_count": null,
      "outputs": []
    },
    {
      "cell_type": "code",
      "source": [
        "plot_df_issuecodes(\"OAIR Issue Codes Breakdown\", OAIR_df, \"u_issue_code\", \"u_category\",6, 6)"
      ],
      "metadata": {
        "id": "k9Ym1MDAeaVj"
      },
      "execution_count": null,
      "outputs": []
    },
    {
      "cell_type": "code",
      "source": [
        "plot_df(\"Agreements Top 6 Issue Codes by Month\", Agreements_df, \"u_issue_code\", \"month\", 1, 6)"
      ],
      "metadata": {
        "id": "HGjq6UheecG9"
      },
      "execution_count": null,
      "outputs": []
    },
    {
      "cell_type": "code",
      "source": [
        "plot_df_issuecodes(\"Agreements Issue Codes Breakdown\", Agreements_df, \"u_issue_code\", \"u_category\",6, 6)"
      ],
      "metadata": {
        "id": "A_1eNw77edyP"
      },
      "execution_count": null,
      "outputs": []
    },
    {
      "cell_type": "code",
      "source": [
        "from wordcloud import WordCloud  #pip install wordcloud\n",
        "from textblob import TextBlob  #Sentiment Analysis - pip install textblob\n",
        "import matplotlib.pyplot as plt\n",
        "\n",
        "train_qs = pd.Series(df['short_description'].tolist())\n",
        "qs_text = \" \".join(map(str, train_qs))\n",
        "\n",
        "cloud = WordCloud(width=1440, height=1080).generate(qs_text)\n",
        "plt.figure(figsize=(15, 10))\n",
        "plt.imshow(cloud);\n",
        "plt.axis('off');\n",
        "plt.savefig(\"/content/drive/MyDrive/Report images/short_descriptions_wordcloud\")"
      ],
      "metadata": {
        "id": "Xb5sP3rxyqDA"
      },
      "execution_count": null,
      "outputs": []
    },
    {
      "cell_type": "code",
      "source": [
        "df['close_notes'] = df['close_notes'].fillna(\" \")"
      ],
      "metadata": {
        "id": "sUuJqchoeKnk"
      },
      "execution_count": null,
      "outputs": []
    },
    {
      "cell_type": "code",
      "source": [
        "train_qs = pd.Series(df['close_notes'].tolist())\n",
        "qs_text = \" \".join(train_qs)\n",
        "\n",
        "cloud = WordCloud(width=1440, height=1080).generate(qs_text)\n",
        "plt.figure(figsize=(15, 10))\n",
        "plt.imshow(cloud);\n",
        "plt.axis('off');\n",
        "plt.tight_layout()\n",
        "plt.savefig(\"/content/drive/MyDrive/Report images/close_notes_wordcloud\")"
      ],
      "metadata": {
        "id": "p5YgxwSweNVF"
      },
      "execution_count": null,
      "outputs": []
    },
    {
      "cell_type": "code",
      "source": [
        "def aggregate(rows,columns,df):\n",
        "    column_keys = df[columns].unique()\n",
        "    row_keys = df[rows].unique()\n",
        "\n",
        "    agg = { key : [ len(df[(df[rows]==value) & (df[columns]==key)]) for value in row_keys]\n",
        "               for key in column_keys }\n",
        "\n",
        "    aggdf = pd.DataFrame(agg,index = row_keys)\n",
        "    aggdf.index.rename(rows,inplace=True)\n",
        "\n",
        "    # return aggdf\n",
        "    aggdf.plot(kind='bar', stacked=True)\n",
        "    plt.title(\"Aggregate Tickets by Application \\n\", fontsize=16)\n",
        "    plt.yticks(np.arange(0, 200, step=10))\n",
        "    plt.xlabel(\"Application\")\n",
        "    plt.ylabel(\"Count of Tickets\")\n",
        "\n",
        "    plt.tight_layout()\n",
        "\n",
        "    plt.savefig(\"/content/drive/MyDrive/Report images/Aggregate Tickets by Application\")\n",
        "\n",
        "# aggregate('u_business_service','u_business_service',df).plot(kind='bar',stacked=True)\n",
        "# aggregate('u_business_service','u_business_service',df)"
      ],
      "metadata": {
        "id": "Vhrp4cQ6efjm"
      },
      "execution_count": null,
      "outputs": []
    },
    {
      "cell_type": "code",
      "source": [
        "# aggregate('Service_Group','Service_Group',df)"
      ],
      "metadata": {
        "id": "BeXRFkQhejsJ"
      },
      "execution_count": null,
      "outputs": []
    },
    {
      "cell_type": "code",
      "source": [
        "!pip install fpdf2\n",
        "from fpdf import FPDF\n",
        "import datetime\n",
        "from datetime import datetime, timedelta"
      ],
      "metadata": {
        "id": "NtBcGJ-deoFX"
      },
      "execution_count": null,
      "outputs": []
    },
    {
      "cell_type": "code",
      "source": [
        "WIDTH = 210\n",
        "HEIGHT = 297"
      ],
      "metadata": {
        "id": "2JANUEa3etHT"
      },
      "execution_count": null,
      "outputs": []
    },
    {
      "cell_type": "code",
      "source": [
        "import os\n",
        "os.chdir(\"/content/drive/MyDrive/Report images\")\n",
        "\n",
        "images = os.listdir()"
      ],
      "metadata": {
        "id": "nGE33VzUev50"
      },
      "execution_count": null,
      "outputs": []
    },
    {
      "cell_type": "code",
      "source": [
        "images_path = \"/content/drive/MyDrive/Report images/\"\n",
        "\n",
        "images_path_list = []\n",
        "\n",
        "for image in images:\n",
        "  image_path = images_path+image\n",
        "  images_path_list.append(image_path)\n",
        "\n",
        "images_path_list"
      ],
      "metadata": {
        "id": "IzSFZttXeytg"
      },
      "execution_count": null,
      "outputs": []
    },
    {
      "cell_type": "code",
      "source": [
        "def create_title(pdf, day):\n",
        "  pdf.set_font('Arial', '', 24)\n",
        "  pdf.ln(60)\n",
        "  pdf.write(5, f\"ServiceNow Quarterly Report\")\n",
        "  pdf.set_font('Arial', '', 16)\n",
        "  pdf.ln(10)\n",
        "  pdf.write(5, f\"FY24 Quarter III Ticket Review Meeting\")\n",
        "  pdf.ln(150)\n",
        "  pdf.write(30, f\"Report generated on {day}\")"
      ],
      "metadata": {
        "id": "fzs7FsROe36Q"
      },
      "execution_count": null,
      "outputs": []
    },
    {
      "cell_type": "code",
      "source": [
        "def create_report(day, filename=\"/content/drive/MyDrive/Service Now Report FY24_Q3.pdf\"):\n",
        "  pdf = FPDF()\n",
        "\n",
        "  '''\n",
        "  Title Page, Page 1\n",
        "  '''\n",
        "\n",
        "  pdf.add_page()\n",
        "  pdf.image(\"/content/drive/MyDrive/harvard_letterhead.png\", 0, 0, WIDTH)\n",
        "  create_title(pdf, day)\n",
        "\n",
        "  '''\n",
        "  Page 2, Ticket Volume Overview Page\n",
        "  '''\n",
        "\n",
        "  pdf.add_page()\n",
        "  pdf.set_font('Arial', 'B', 16)\n",
        "  pdf.cell(40,15, 'Ticket Volume Overview')\n",
        "\n",
        "  pdf.set_font('Arial','',12)\n",
        "  pdf.set_xy(10,20)\n",
        "  pdf.cell(10,15, 'The report was created only looking at tickets created in SNOW in the date range specified above.')\n",
        "  pdf.set_xy(10,25)\n",
        "  pdf.cell(10,15, 'Cancelled tickets are excluded from this assessment.  Visual of cancelled tickets is presented later.')\n",
        "\n",
        "  pdf.image(\"/content/drive/MyDrive/Report images/Aggregate Tickets by Application.png\", 10 , 35, WIDTH-20)\n",
        "  pdf.image(\"/content/drive/MyDrive/Report images/Monthly Total Tickets by Service.png\", 10 , HEIGHT/2 + 10, WIDTH*.95 - 10)\n",
        "\n",
        "  '''\n",
        "  Page 3 - Top Issue Codes for GMAS, table only\n",
        "  '''\n",
        "\n",
        "  pdf.add_page()\n",
        "  pdf.set_font('Arial', 'B', 14)\n",
        "  pdf.cell(40,10, 'Top Issue Codes for GMAS')\n",
        "  pdf.image(\"/content/drive/MyDrive/Report images/GMAS Top Issue Codes.png\", 10 , 20, WIDTH*.8-10)\n",
        "\n",
        "  '''\n",
        "  Page 4 - Top Issue Codes for GMAS, chart\n",
        "  '''\n",
        "  pdf.add_page()\n",
        "  pdf.set_font('Arial', 'B', 14)\n",
        "  pdf.cell(40,10, 'Top Issue Codes for GMAS')\n",
        "  pdf.image(\"/content/drive/MyDrive/Report images/GMAS Top 6 Issue Codes by Month.png\", 10 , 20, WIDTH*.9-10)\n",
        "\n",
        "  pdf.set_xy(10,HEIGHT/2-10)\n",
        "  pdf.cell(40,10, 'GMAS Issue Codes BreakDown')\n",
        "  pdf.image(\"/content/drive/MyDrive/Report images/GMAS Issue Codes Breakdown.png\", 10 , HEIGHT/2 + 10, WIDTH*.95 - 10)\n",
        "\n",
        "  # pdf.image(\"/content/drive/MyDrive/Work/Report Images/RACR Top Issue Codes.png\", 10 , HEIGHT/2, WIDTH*.65)\n",
        "  # pdf.image(\"/content/drive/MyDrive/Work/Report Images/RACR Top 6 Issue Codes by Month.png\", 10 , HEIGHT/2+30, WIDTH*.8)\n",
        "\n",
        "\n",
        "  '''\n",
        "  Page 5 - Top Issue Codes for ECRT, table + chart\n",
        "  '''\n",
        "  pdf.add_page()\n",
        "  pdf.set_font('Arial', 'B', 14)\n",
        "  pdf.cell(40,10, 'Top Issue Codes for ECRT')\n",
        "  pdf.image(\"/content/drive/MyDrive/Report images/ECRT Top 6 Issue Codes by Month.png\", 10 , 20, WIDTH*.9-10)\n",
        "\n",
        "  pdf.set_xy(10,HEIGHT/2-10)\n",
        "  pdf.cell(40,10, 'ECRT Issue Codes BreakDown')\n",
        "  pdf.image(\"/content/drive/MyDrive/Report images/ECRT Issue Codes Breakdown.png\", 10 , HEIGHT/2 + 10, WIDTH*.95 - 10)\n",
        "\n",
        "  '''\n",
        "  Page 6 - Top Issue Codes IRB\n",
        "  '''\n",
        "  pdf.add_page()\n",
        "  pdf.set_font('Arial', 'B', 14)\n",
        "  pdf.cell(40,10, 'Top Issue Codes for IRB')\n",
        "  pdf.image(\"/content/drive/MyDrive/Report images/IRB Top 6 Issue Codes by Month.png\", 10 , 20, WIDTH*.9-10)\n",
        "\n",
        "  pdf.set_xy(10,HEIGHT/2-10)\n",
        "  pdf.cell(40,10, 'IRB Issue Codes BreakDown')\n",
        "  pdf.image(\"/content/drive/MyDrive/Report images/IRB Issue Codes Breakdown.png\", 10 , HEIGHT/2 + 10, WIDTH*.95 - 10)\n",
        "\n",
        "  '''\n",
        "  Page 7, Top Issue Codes for RACR\n",
        "  '''\n",
        "  pdf.add_page()\n",
        "  pdf.set_font('Arial', 'B', 14)\n",
        "  pdf.cell(40,10, 'Top Issue Codes for RACR')\n",
        "  pdf.image(\"/content/drive/MyDrive/Report images/RACR Top 6 Issue Codes by Month.png\", 10 , 20, WIDTH*.9-10)\n",
        "\n",
        "  pdf.set_xy(10,HEIGHT/2-10)\n",
        "  pdf.cell(40,10, 'RACR Issue Codes BreakDown')\n",
        "  pdf.image(\"/content/drive/MyDrive/Report images/RACR Issue Codes Breakdown.png\", 10 , HEIGHT/2 + 10, WIDTH*.95 - 10)\n",
        "\n",
        "  '''\n",
        "  Page 8, Top Issue Codes for OAIR\n",
        "  '''\n",
        "  pdf.add_page()\n",
        "  pdf.set_font('Arial', 'B', 14)\n",
        "  pdf.cell(40,10, 'Top Issue Codes for OAIR')\n",
        "  pdf.image(\"/content/drive/MyDrive/Report images/OAIR Top 6 Issue Codes by Month.png\", 10 , 20, WIDTH*.9-10)\n",
        "\n",
        "  pdf.set_xy(10,HEIGHT/2-10)\n",
        "  pdf.cell(40,10, 'RACR Issue Codes BreakDown')\n",
        "  pdf.image(\"/content/drive/MyDrive/Report images/OAIR Issue Codes Breakdown.png\", 10 , HEIGHT/2 + 10, WIDTH*.95 - 10)\n",
        "\n",
        "  '''\n",
        "  Page 9, Top Issue Codes for Data Safety\n",
        "  '''\n",
        "  pdf.add_page()\n",
        "  pdf.set_font('Arial', 'B', 14)\n",
        "  pdf.cell(40,10, 'Top Issue Codes for Data Safety')\n",
        "  pdf.image(\"/content/drive/MyDrive/Report images/Data Safety Top 6 Issue Codes by Month.png\", 10 , 20, WIDTH*.9-10)\n",
        "\n",
        "  pdf.set_xy(10,HEIGHT/2-10)\n",
        "  pdf.cell(40,10, 'Data Safety Issue Codes BreakDown')\n",
        "  pdf.image(\"/content/drive/MyDrive/Report images/Data Safety Issue Codes Breakdown.png\", 10 , HEIGHT/2 + 10, WIDTH*.95 - 10)\n",
        "\n",
        "  '''\n",
        "  Page 10, Top Issue Codes for Agreements\n",
        "  '''\n",
        "  pdf.add_page()\n",
        "  pdf.set_font('Arial', 'B', 14)\n",
        "  pdf.cell(40,10, 'Top Issue Codes for Agreements')\n",
        "  pdf.image(\"/content/drive/MyDrive/Report images/Agreements Top 6 Issue Codes by Month.png\", 10 , 20, WIDTH*.9-10)\n",
        "\n",
        "  pdf.set_xy(10,HEIGHT/2-10)\n",
        "  pdf.cell(40,10, 'Agreements Issue Codes BreakDown')\n",
        "  pdf.image(\"/content/drive/MyDrive/Report images/Agreements Issue Codes Breakdown.png\", 10 , HEIGHT/2 + 10, WIDTH*.95 - 10)\n",
        "\n",
        "  '''\n",
        "  Page 11, Cancelled Tickets by Service and close notes word cloud\n",
        "  '''\n",
        "  pdf.add_page()\n",
        "  pdf.set_font('Arial', 'B', 16)\n",
        "  pdf.cell(40,15, 'Cancelled Tickets by Service')\n",
        "\n",
        "  pdf.image(\"/content/drive/MyDrive/Report images/Cancelled Tickets by Service.png\", 10 , 25, WIDTH*.9-10)\n",
        "\n",
        "  pdf.set_xy(10,HEIGHT/2-10)\n",
        "  pdf.cell(40,10, 'Close Notes Word Cloud')\n",
        "  pdf.image(\"/content/drive/MyDrive/Report images/close_notes_wordcloud.png\", 10 , HEIGHT/2, WIDTH*.9)\n",
        "\n",
        "\n",
        "  '''\n",
        "  Page 12, Incident Descriptions word cloud\n",
        "  '''\n",
        "  pdf.add_page()\n",
        "  pdf.set_font('Arial', 'B', 16)\n",
        "  pdf.cell(40,15, 'Incident Short Descriptions Word Cloud')\n",
        "\n",
        "  pdf.image(\"/content/drive/MyDrive/Report images/short_descriptions_wordcloud.png\",10 , 20, WIDTH*.9)\n",
        "  # count = 1\n",
        "  # for image in images_path_list:\n",
        "  #   if count == 1:\n",
        "  #     pdf.add_page()\n",
        "  #     # pdf.image(image, w=pdf.w*.75, h=pdf.h/2)\n",
        "  #     # pdf.image(image, 10, 20, HEIGHT/2, WIDTH*.6)\n",
        "  #     pdf.image(image, 10, 20, WIDTH*.6)\n",
        "  #     pdf.ln(10)\n",
        "  #     count = count + 1\n",
        "  #   else:\n",
        "  #     # pdf.image(image, w=pdf.w*.75, h=pdf.h/2)\n",
        "  #     pdf.image(image, 10, HEIGHT/2 + 20, WIDTH*.6)\n",
        "  #     pdf.ln(10)\n",
        "  #     count = 1\n",
        "\n",
        "  pdf.output(filename, 'F')\n",
        "\n",
        "if __name__ == '__main__':\n",
        "  day = datetime.today().strftime(\"%m/%d/%y\")\n",
        "  create_report(day)"
      ],
      "metadata": {
        "id": "A3VabT7Pe9PP"
      },
      "execution_count": null,
      "outputs": []
    }
  ]
}